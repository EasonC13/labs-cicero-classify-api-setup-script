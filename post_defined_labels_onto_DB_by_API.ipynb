{
 "cells": [
  {
   "cell_type": "code",
   "execution_count": 46,
   "metadata": {
    "ExecuteTime": {
     "end_time": "2021-08-21T10:41:58.414926Z",
     "start_time": "2021-08-21T10:41:58.408408Z"
    }
   },
   "outputs": [],
   "source": [
    "# This is the setup for the service, \n",
    "# after start the API, please define these labels via API"
   ]
  },
  {
   "cell_type": "code",
   "execution_count": 1,
   "metadata": {
    "ExecuteTime": {
     "end_time": "2021-08-28T21:51:25.478069Z",
     "start_time": "2021-08-28T21:51:25.472321Z"
    }
   },
   "outputs": [],
   "source": [
    "# Change to your port\n",
    "API_PORT = 13537"
   ]
  },
  {
   "cell_type": "code",
   "execution_count": 51,
   "metadata": {
    "ExecuteTime": {
     "end_time": "2021-08-21T10:42:02.581010Z",
     "start_time": "2021-08-21T10:42:02.574939Z"
    }
   },
   "outputs": [],
   "source": [
    "import requests"
   ]
  },
  {
   "cell_type": "code",
   "execution_count": 2,
   "metadata": {
    "ExecuteTime": {
     "end_time": "2021-08-28T21:51:27.534875Z",
     "start_time": "2021-08-28T21:51:27.532036Z"
    }
   },
   "outputs": [],
   "source": [
    "default_labels = ['O','B-art','I-org','B-geo','I-gpe','I-tim','I-per','B-org','B-gpe','B-eve','I-geo','I-art','I-nat','B-tim','I-eve','B-per','B-nat']"
   ]
  },
  {
   "cell_type": "code",
   "execution_count": 53,
   "metadata": {
    "ExecuteTime": {
     "end_time": "2021-08-21T10:42:04.278052Z",
     "start_time": "2021-08-21T10:42:03.324278Z"
    }
   },
   "outputs": [],
   "source": [
    "for label in default_labels:\n",
    "    data = {\n",
    "      \"user\": \"eason.tw.chen@gmail.com\",\n",
    "      \"label_name\": label,\n",
    "      \"inherit\": [\n",
    "      ],\n",
    "      \"alias_as\": [\n",
    "      ],\n",
    "      \"comment\": \"This is the default label in CONLL dataset.\",\n",
    "      \"labels\": [\n",
    "          \"default\"\n",
    "      ]\n",
    "    }\n",
    "    import json\n",
    "\n",
    "    headers = {\n",
    "        'accept': 'application/json',\n",
    "        'Content-Type': 'application/json'\n",
    "    }\n",
    "    response = requests.post(f\"http://localhost:{API_PORT}/labels\", data = json.dumps(data))"
   ]
  },
  {
   "cell_type": "code",
   "execution_count": 54,
   "metadata": {
    "ExecuteTime": {
     "end_time": "2021-08-21T10:42:11.401695Z",
     "start_time": "2021-08-21T10:42:11.395310Z"
    }
   },
   "outputs": [
    {
     "data": {
      "text/plain": [
       "{'message': 'Success, new label B-nat added.'}"
      ]
     },
     "execution_count": 54,
     "metadata": {},
     "output_type": "execute_result"
    }
   ],
   "source": [
    "response.json()"
   ]
  },
  {
   "cell_type": "code",
   "execution_count": 3,
   "metadata": {
    "ExecuteTime": {
     "end_time": "2021-08-28T21:51:29.017541Z",
     "start_time": "2021-08-28T21:51:29.013684Z"
    }
   },
   "outputs": [],
   "source": [
    "# This is the defination of extend \n",
    "transform_label_mapping = {\n",
    "    'B-art': ['Object'],\n",
    "    'B-eve': ['Event'],\n",
    "    'B-geo': ['Location', 'Party'],\n",
    "    'B-gpe': ['Race', \"Party\"],\n",
    "    'B-nat': ['SpecialTerm'],\n",
    "    'B-org': ['Party', \"Organization\"],\n",
    "    'B-per': ['Party', \"Person\"],\n",
    "    'B-tim': ['TemporalUnit', \"Time\"],\n",
    "    'I-art': ['Object'],\n",
    "    'I-eve': ['Event'],\n",
    "    'I-geo': ['Location', 'Party'],\n",
    "    'I-gpe': ['Race', \"Party\"],\n",
    "    'I-nat': ['SpecialTerm'],\n",
    "    'I-org': ['Party', \"Organization\"],\n",
    "    'I-per': ['Party', \"Person\"],\n",
    "    'I-tim': ['TemporalUnit', \"Time\"],\n",
    "    'O': [],\n",
    "}"
   ]
  },
  {
   "cell_type": "code",
   "execution_count": 4,
   "metadata": {
    "ExecuteTime": {
     "end_time": "2021-08-28T21:51:30.383610Z",
     "start_time": "2021-08-28T21:51:30.222063Z"
    }
   },
   "outputs": [],
   "source": [
    "import numpy as np\n",
    "labels = list(transform_label_mapping.values())"
   ]
  },
  {
   "cell_type": "code",
   "execution_count": 5,
   "metadata": {
    "ExecuteTime": {
     "end_time": "2021-08-28T21:51:30.441351Z",
     "start_time": "2021-08-28T21:51:30.435177Z"
    }
   },
   "outputs": [],
   "source": [
    "all_extended_labels = []"
   ]
  },
  {
   "cell_type": "code",
   "execution_count": 6,
   "metadata": {
    "ExecuteTime": {
     "end_time": "2021-08-28T21:51:30.627846Z",
     "start_time": "2021-08-28T21:51:30.621086Z"
    }
   },
   "outputs": [],
   "source": [
    "for t in labels:\n",
    "    all_extended_labels += t"
   ]
  },
  {
   "cell_type": "code",
   "execution_count": 7,
   "metadata": {
    "ExecuteTime": {
     "end_time": "2021-08-28T21:51:31.102366Z",
     "start_time": "2021-08-28T21:51:31.087077Z"
    }
   },
   "outputs": [
    {
     "data": {
      "text/plain": [
       "26"
      ]
     },
     "execution_count": 7,
     "metadata": {},
     "output_type": "execute_result"
    }
   ],
   "source": [
    "len(all_extended_labels)"
   ]
  },
  {
   "cell_type": "code",
   "execution_count": 9,
   "metadata": {
    "ExecuteTime": {
     "end_time": "2021-08-28T21:51:33.143143Z",
     "start_time": "2021-08-28T21:51:33.140363Z"
    }
   },
   "outputs": [],
   "source": [
    "all_extended_labels_dict = {}\n",
    "for key in all_extended_labels:\n",
    "    all_extended_labels_dict[key] = []\n",
    "for key, items in transform_label_mapping.items():\n",
    "    for item in items:\n",
    "        all_extended_labels_dict[item].append(key)"
   ]
  },
  {
   "cell_type": "code",
   "execution_count": 13,
   "metadata": {
    "ExecuteTime": {
     "end_time": "2021-08-28T21:52:23.171339Z",
     "start_time": "2021-08-28T21:52:23.158405Z"
    }
   },
   "outputs": [
    {
     "data": {
      "text/plain": [
       "dict_keys(['Object', 'Event', 'Location', 'Party', 'Race', 'SpecialTerm', 'Organization', 'Person', 'TemporalUnit', 'Time'])"
      ]
     },
     "execution_count": 13,
     "metadata": {},
     "output_type": "execute_result"
    }
   ],
   "source": [
    "all_extended_labels_dict.keys()"
   ]
  },
  {
   "cell_type": "code",
   "execution_count": 14,
   "metadata": {
    "ExecuteTime": {
     "end_time": "2021-08-28T21:52:48.490351Z",
     "start_time": "2021-08-28T21:52:48.485433Z"
    }
   },
   "outputs": [
    {
     "data": {
      "text/plain": [
       "{'Object': ['B-art', 'I-art'],\n",
       " 'Event': ['B-eve', 'I-eve'],\n",
       " 'Location': ['B-geo', 'I-geo'],\n",
       " 'Party': ['B-geo',\n",
       "  'B-gpe',\n",
       "  'B-org',\n",
       "  'B-per',\n",
       "  'I-geo',\n",
       "  'I-gpe',\n",
       "  'I-org',\n",
       "  'I-per'],\n",
       " 'Race': ['B-gpe', 'I-gpe'],\n",
       " 'SpecialTerm': ['B-nat', 'I-nat'],\n",
       " 'Organization': ['B-org', 'I-org'],\n",
       " 'Person': ['B-per', 'I-per'],\n",
       " 'TemporalUnit': ['B-tim', 'I-tim'],\n",
       " 'Time': ['B-tim', 'I-tim']}"
      ]
     },
     "execution_count": 14,
     "metadata": {},
     "output_type": "execute_result"
    }
   ],
   "source": [
    "all_extended_labels_dict"
   ]
  },
  {
   "cell_type": "code",
   "execution_count": null,
   "metadata": {},
   "outputs": [],
   "source": []
  },
  {
   "cell_type": "code",
   "execution_count": null,
   "metadata": {},
   "outputs": [],
   "source": []
  },
  {
   "cell_type": "code",
   "execution_count": null,
   "metadata": {
    "ExecuteTime": {
     "end_time": "2021-08-19T11:30:58.993200Z",
     "start_time": "2021-08-19T11:30:58.981493Z"
    }
   },
   "outputs": [],
   "source": []
  },
  {
   "cell_type": "code",
   "execution_count": 62,
   "metadata": {
    "ExecuteTime": {
     "end_time": "2021-08-21T10:42:20.911053Z",
     "start_time": "2021-08-21T10:42:16.991740Z"
    }
   },
   "outputs": [],
   "source": [
    "for label in all_extended_labels:\n",
    "    data = {\n",
    "      \"user\": \"eason.tw.chen@gmail.com\",\n",
    "      \"label_name\": label,\n",
    "      \"inherit\": all_extended_labels_dict[label],\n",
    "      \"alias_as\": [\n",
    "      ],\n",
    "      \"comment\": \"This is the extend label by labels in CONLL dataset.\",\n",
    "      \"tags\": [\n",
    "          \"default\", \"default-extend\"\n",
    "      ]\n",
    "    }\n",
    "    import json\n",
    "\n",
    "    headers = {\n",
    "        'accept': 'application/json',\n",
    "        'Content-Type': 'application/json'\n",
    "    }\n",
    "    response = requests.post(f\"http://localhost:{API_PORT}/labels\", data = json.dumps(data))"
   ]
  },
  {
   "cell_type": "code",
   "execution_count": null,
   "metadata": {},
   "outputs": [],
   "source": [
    "# These Basic Labels I add them in the dataset by rule based label functions."
   ]
  },
  {
   "cell_type": "code",
   "execution_count": 63,
   "metadata": {
    "ExecuteTime": {
     "end_time": "2021-08-21T10:42:20.920530Z",
     "start_time": "2021-08-21T10:42:20.915135Z"
    }
   },
   "outputs": [],
   "source": [
    "other_basic_labels = ['Float', 'Integer', 'CountryCode', 'CryptoCurrencyCode', 'CurrencyCode', 'TemporalUnit', 'Timezone', 'US_States', 'TemporalUnit', 'Month']"
   ]
  },
  {
   "cell_type": "code",
   "execution_count": 64,
   "metadata": {
    "ExecuteTime": {
     "end_time": "2021-08-21T10:42:21.513412Z",
     "start_time": "2021-08-21T10:42:20.923676Z"
    }
   },
   "outputs": [],
   "source": [
    "for label in other_basic_labels:\n",
    "    data = {\n",
    "      \"user\": \"eason.tw.chen@gmail.com\",\n",
    "      \"label_name\": label,\n",
    "      \"inherit\": [\n",
    "      ],\n",
    "      \"alias_as\": [\n",
    "      ],\n",
    "      \"comment\": \"This is the label create by label function\",\n",
    "      \"tags\": [\n",
    "          \"default\", \"basic_labels\", \"have_label_function\"\n",
    "      ]\n",
    "    }\n",
    "    import json\n",
    "\n",
    "    headers = {\n",
    "        'accept': 'application/json',\n",
    "        'Content-Type': 'application/json'\n",
    "    }\n",
    "    response = requests.post(f\"http://localhost:{API_PORT}/labels\", data = json.dumps(data))"
   ]
  },
  {
   "cell_type": "code",
   "execution_count": null,
   "metadata": {},
   "outputs": [],
   "source": [
    "# Finally, \"String\" will label all poential labels expect O"
   ]
  },
  {
   "cell_type": "code",
   "execution_count": 19,
   "metadata": {
    "ExecuteTime": {
     "end_time": "2021-08-28T21:57:18.150330Z",
     "start_time": "2021-08-28T21:57:18.147308Z"
    }
   },
   "outputs": [],
   "source": [
    "data = {\n",
    "  \"user\": \"eason.tw.chen@gmail.com\",\n",
    "  \"label_name\": \"String\",\n",
    "  \"inherit\": set(all_extended_labels + default_labels) - {\"O\"},\n",
    "  \"alias_as\": [\n",
    "  ],\n",
    "  \"comment\": \"This is the default label in Shows all different in CONLL dataset.\",\n",
    "  \"tags\": [\n",
    "      \"default\", \"String\"\n",
    "  ]\n",
    "}\n",
    "\n",
    "headers = {\n",
    "    'accept': 'application/json',\n",
    "    'Content-Type': 'application/json'\n",
    "}\n",
    "#response = requests.post(f\"http://localhost:{API_PORT}/labels\", data = json.dumps(data))"
   ]
  },
  {
   "cell_type": "code",
   "execution_count": 66,
   "metadata": {
    "ExecuteTime": {
     "end_time": "2021-08-21T10:42:21.572804Z",
     "start_time": "2021-08-21T10:42:21.567156Z"
    }
   },
   "outputs": [],
   "source": [
    "origin_all_labels = ['O','B-art','I-org','B-geo','Race','I-gpe','I-tim','Object','Integer','I-per','TemporalUnit','B-org','CountryCode','B-gpe','B-eve','Party','I-geo','I-art','CryptoCurrencyCode','I-nat','Event','B-tim','Time','SpecialTerm','CurrencyCode','I-eve','Float','Month','B-per','Location','Timezone','US_States','B-nat']"
   ]
  },
  {
   "cell_type": "code",
   "execution_count": 67,
   "metadata": {
    "ExecuteTime": {
     "end_time": "2021-08-21T10:42:21.580676Z",
     "start_time": "2021-08-21T10:42:21.575393Z"
    }
   },
   "outputs": [
    {
     "data": {
      "text/plain": [
       "{'Organization', 'Person', 'String'}"
      ]
     },
     "execution_count": 67,
     "metadata": {},
     "output_type": "execute_result"
    }
   ],
   "source": [
    "all_labels_added_to_db = set(all_extended_labels + default_labels + other_basic_labels + [\"String\"])\n",
    "all_labels_added_to_db - set(origin_all_labels)"
   ]
  },
  {
   "cell_type": "code",
   "execution_count": 68,
   "metadata": {
    "ExecuteTime": {
     "end_time": "2021-08-21T10:42:21.585001Z",
     "start_time": "2021-08-21T10:42:21.582442Z"
    }
   },
   "outputs": [],
   "source": [
    "# I create Org, Person, and String just now, to test the effect of inherit do work or not."
   ]
  },
  {
   "cell_type": "code",
   "execution_count": null,
   "metadata": {},
   "outputs": [],
   "source": []
  },
  {
   "cell_type": "code",
   "execution_count": 69,
   "metadata": {
    "ExecuteTime": {
     "end_time": "2021-08-21T10:42:21.855042Z",
     "start_time": "2021-08-21T10:42:21.792883Z"
    }
   },
   "outputs": [],
   "source": [
    "result = requests.get(f\"http://localhost:{API_PORT}/labels\")"
   ]
  },
  {
   "cell_type": "code",
   "execution_count": 70,
   "metadata": {
    "ExecuteTime": {
     "end_time": "2021-08-21T10:42:22.337284Z",
     "start_time": "2021-08-21T10:42:22.329884Z"
    }
   },
   "outputs": [],
   "source": [
    "result = result.json()"
   ]
  },
  {
   "cell_type": "code",
   "execution_count": 71,
   "metadata": {
    "ExecuteTime": {
     "end_time": "2021-08-21T10:42:22.532147Z",
     "start_time": "2021-08-21T10:42:22.524575Z"
    }
   },
   "outputs": [],
   "source": [
    "all_label_name_in_db = []\n",
    "for label in result:\n",
    "    all_label_name_in_db.append(label[\"label_name\"])"
   ]
  },
  {
   "cell_type": "code",
   "execution_count": 73,
   "metadata": {
    "ExecuteTime": {
     "end_time": "2021-08-21T10:42:48.718681Z",
     "start_time": "2021-08-21T10:42:48.714875Z"
    }
   },
   "outputs": [
    {
     "data": {
      "text/plain": [
       "set()"
      ]
     },
     "execution_count": 73,
     "metadata": {},
     "output_type": "execute_result"
    }
   ],
   "source": [
    "# All labels in DB now :D\n",
    "set(all_label_name_in_db) - set(all_labels_added_to_db)"
   ]
  },
  {
   "cell_type": "code",
   "execution_count": 74,
   "metadata": {
    "ExecuteTime": {
     "end_time": "2021-08-21T10:43:27.198305Z",
     "start_time": "2021-08-21T10:43:27.192334Z"
    }
   },
   "outputs": [],
   "source": [
    "# Next thing is put_all_labels_into_training_queue"
   ]
  },
  {
   "cell_type": "code",
   "execution_count": null,
   "metadata": {},
   "outputs": [],
   "source": []
  }
 ],
 "metadata": {
  "kernelspec": {
   "display_name": "adapter",
   "language": "python",
   "name": "adapter"
  },
  "language_info": {
   "codemirror_mode": {
    "name": "ipython",
    "version": 3
   },
   "file_extension": ".py",
   "mimetype": "text/x-python",
   "name": "python",
   "nbconvert_exporter": "python",
   "pygments_lexer": "ipython3",
   "version": "3.7.10"
  }
 },
 "nbformat": 4,
 "nbformat_minor": 4
}
